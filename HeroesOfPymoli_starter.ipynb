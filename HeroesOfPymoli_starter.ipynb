{
 "cells": [
  {
   "cell_type": "markdown",
   "metadata": {},
   "source": [
    "### Heroes Of Pymoli Data Analysis\n",
    "* Of the 1163 active players, the vast majority are male (84%). There also exists, a smaller, but notable proportion of female players (14%).\n",
    "\n",
    "* Our peak age demographic falls between 20-24 (44.8%) with secondary groups falling between 15-19 (18.60%) and 25-29 (13.4%).  \n",
    "-----"
   ]
  },
  {
   "cell_type": "markdown",
   "metadata": {},
   "source": [
    "### Note\n",
    "* Instructions have been included for each segment. You do not have to follow them exactly, but they are included to help you think through the steps."
   ]
  },
  {
   "cell_type": "code",
   "execution_count": 2,
   "metadata": {},
   "outputs": [
    {
     "output_type": "execute_result",
     "data": {
      "text/plain": "    Purchase ID             SN  Age                 Gender  Item ID  \\\n0             0        Lisim78   20                   Male      108   \n1             1    Lisovynya38   40                   Male      143   \n2             2     Ithergue48   24                   Male       92   \n3             3  Chamassasya86   24                   Male      100   \n4             4      Iskosia90   23                   Male      131   \n5             5        Yalae81   22                   Male       81   \n6             6      Itheria73   36                   Male      169   \n7             7    Iskjaskst81   20                   Male      162   \n8             8      Undjask33   22                   Male       21   \n9             9    Chanosian48   35  Other / Non-Disclosed      136   \n10           10      Inguron55   23                   Male       95   \n11           11   Haisrisuir60   23                   Male      162   \n12           12   Saelaephos52   21                   Male      116   \n13           13    Assjaskan73   22                   Male        4   \n14           14    Saesrideu94   35                   Male      165   \n15           15      Lisassa64   21                 Female       98   \n16           16      Lisirra25   20                   Male       40   \n17           17      Zontibe81   21                   Male      161   \n18           18      Reunasu60   22                 Female       82   \n19           19      Chamalo71   30                   Male       89   \n\n                                    Item Name  Price  \n0   Extraction, Quickblade Of Trembling Hands   3.53  \n1                           Frenzied Scimitar   1.56  \n2                                Final Critic   4.88  \n3                                 Blindscythe   3.27  \n4                                        Fury   1.44  \n5                                   Dreamkiss   3.61  \n6      Interrogator, Blood Blade of the Queen   2.18  \n7                               Abyssal Shard   2.67  \n8                                   Souleater   1.10  \n9                Ghastly Adamantite Protector   3.58  \n10                      Singed Onyx Warscythe   4.74  \n11                              Abyssal Shard   2.67  \n12                    Renewed Skeletal Katana   4.18  \n13                         Bloodlord's Fetish   1.70  \n14                Bone Crushing Silver Skewer   4.86  \n15                Deadline, Voice Of Subtlety   2.89  \n16                              Second Chance   2.52  \n17                                     Devine   1.76  \n18                                    Nirvana   4.90  \n19          Blazefury, Protector of Delusions   4.64  ",
      "text/html": "<div>\n<style scoped>\n    .dataframe tbody tr th:only-of-type {\n        vertical-align: middle;\n    }\n\n    .dataframe tbody tr th {\n        vertical-align: top;\n    }\n\n    .dataframe thead th {\n        text-align: right;\n    }\n</style>\n<table border=\"1\" class=\"dataframe\">\n  <thead>\n    <tr style=\"text-align: right;\">\n      <th></th>\n      <th>Purchase ID</th>\n      <th>SN</th>\n      <th>Age</th>\n      <th>Gender</th>\n      <th>Item ID</th>\n      <th>Item Name</th>\n      <th>Price</th>\n    </tr>\n  </thead>\n  <tbody>\n    <tr>\n      <th>0</th>\n      <td>0</td>\n      <td>Lisim78</td>\n      <td>20</td>\n      <td>Male</td>\n      <td>108</td>\n      <td>Extraction, Quickblade Of Trembling Hands</td>\n      <td>3.53</td>\n    </tr>\n    <tr>\n      <th>1</th>\n      <td>1</td>\n      <td>Lisovynya38</td>\n      <td>40</td>\n      <td>Male</td>\n      <td>143</td>\n      <td>Frenzied Scimitar</td>\n      <td>1.56</td>\n    </tr>\n    <tr>\n      <th>2</th>\n      <td>2</td>\n      <td>Ithergue48</td>\n      <td>24</td>\n      <td>Male</td>\n      <td>92</td>\n      <td>Final Critic</td>\n      <td>4.88</td>\n    </tr>\n    <tr>\n      <th>3</th>\n      <td>3</td>\n      <td>Chamassasya86</td>\n      <td>24</td>\n      <td>Male</td>\n      <td>100</td>\n      <td>Blindscythe</td>\n      <td>3.27</td>\n    </tr>\n    <tr>\n      <th>4</th>\n      <td>4</td>\n      <td>Iskosia90</td>\n      <td>23</td>\n      <td>Male</td>\n      <td>131</td>\n      <td>Fury</td>\n      <td>1.44</td>\n    </tr>\n    <tr>\n      <th>5</th>\n      <td>5</td>\n      <td>Yalae81</td>\n      <td>22</td>\n      <td>Male</td>\n      <td>81</td>\n      <td>Dreamkiss</td>\n      <td>3.61</td>\n    </tr>\n    <tr>\n      <th>6</th>\n      <td>6</td>\n      <td>Itheria73</td>\n      <td>36</td>\n      <td>Male</td>\n      <td>169</td>\n      <td>Interrogator, Blood Blade of the Queen</td>\n      <td>2.18</td>\n    </tr>\n    <tr>\n      <th>7</th>\n      <td>7</td>\n      <td>Iskjaskst81</td>\n      <td>20</td>\n      <td>Male</td>\n      <td>162</td>\n      <td>Abyssal Shard</td>\n      <td>2.67</td>\n    </tr>\n    <tr>\n      <th>8</th>\n      <td>8</td>\n      <td>Undjask33</td>\n      <td>22</td>\n      <td>Male</td>\n      <td>21</td>\n      <td>Souleater</td>\n      <td>1.10</td>\n    </tr>\n    <tr>\n      <th>9</th>\n      <td>9</td>\n      <td>Chanosian48</td>\n      <td>35</td>\n      <td>Other / Non-Disclosed</td>\n      <td>136</td>\n      <td>Ghastly Adamantite Protector</td>\n      <td>3.58</td>\n    </tr>\n    <tr>\n      <th>10</th>\n      <td>10</td>\n      <td>Inguron55</td>\n      <td>23</td>\n      <td>Male</td>\n      <td>95</td>\n      <td>Singed Onyx Warscythe</td>\n      <td>4.74</td>\n    </tr>\n    <tr>\n      <th>11</th>\n      <td>11</td>\n      <td>Haisrisuir60</td>\n      <td>23</td>\n      <td>Male</td>\n      <td>162</td>\n      <td>Abyssal Shard</td>\n      <td>2.67</td>\n    </tr>\n    <tr>\n      <th>12</th>\n      <td>12</td>\n      <td>Saelaephos52</td>\n      <td>21</td>\n      <td>Male</td>\n      <td>116</td>\n      <td>Renewed Skeletal Katana</td>\n      <td>4.18</td>\n    </tr>\n    <tr>\n      <th>13</th>\n      <td>13</td>\n      <td>Assjaskan73</td>\n      <td>22</td>\n      <td>Male</td>\n      <td>4</td>\n      <td>Bloodlord's Fetish</td>\n      <td>1.70</td>\n    </tr>\n    <tr>\n      <th>14</th>\n      <td>14</td>\n      <td>Saesrideu94</td>\n      <td>35</td>\n      <td>Male</td>\n      <td>165</td>\n      <td>Bone Crushing Silver Skewer</td>\n      <td>4.86</td>\n    </tr>\n    <tr>\n      <th>15</th>\n      <td>15</td>\n      <td>Lisassa64</td>\n      <td>21</td>\n      <td>Female</td>\n      <td>98</td>\n      <td>Deadline, Voice Of Subtlety</td>\n      <td>2.89</td>\n    </tr>\n    <tr>\n      <th>16</th>\n      <td>16</td>\n      <td>Lisirra25</td>\n      <td>20</td>\n      <td>Male</td>\n      <td>40</td>\n      <td>Second Chance</td>\n      <td>2.52</td>\n    </tr>\n    <tr>\n      <th>17</th>\n      <td>17</td>\n      <td>Zontibe81</td>\n      <td>21</td>\n      <td>Male</td>\n      <td>161</td>\n      <td>Devine</td>\n      <td>1.76</td>\n    </tr>\n    <tr>\n      <th>18</th>\n      <td>18</td>\n      <td>Reunasu60</td>\n      <td>22</td>\n      <td>Female</td>\n      <td>82</td>\n      <td>Nirvana</td>\n      <td>4.90</td>\n    </tr>\n    <tr>\n      <th>19</th>\n      <td>19</td>\n      <td>Chamalo71</td>\n      <td>30</td>\n      <td>Male</td>\n      <td>89</td>\n      <td>Blazefury, Protector of Delusions</td>\n      <td>4.64</td>\n    </tr>\n  </tbody>\n</table>\n</div>"
     },
     "metadata": {},
     "execution_count": 2
    }
   ],
   "source": [
    "# Dependencies and Setup\n",
    "import pandas as pd\n",
    "\n",
    "# File to Load (Remember to Change These)\n",
    "file_to_load = \"purchase_data.csv\"\n",
    "\n",
    "# Read Purchasing File and store into Pandas data frame\n",
    "purchase_data_df = pd.read_csv(file_to_load)\n",
    "\n",
    "# Check first 10 rows in the purchase_data Data Frame \n",
    "purchase_data_df.head(20)"
   ]
  },
  {
   "cell_type": "markdown",
   "metadata": {},
   "source": [
    "## Player Count"
   ]
  },
  {
   "cell_type": "markdown",
   "metadata": {},
   "source": [
    "* Display the total number of players\n"
   ]
  },
  {
   "cell_type": "code",
   "execution_count": 3,
   "metadata": {},
   "outputs": [
    {
     "output_type": "stream",
     "name": "stdout",
     "text": "576\n"
    }
   ],
   "source": [
    "# Checking to see the row count of Data is accurate before analysis\n",
    "purchase_data_df.count()\n",
    "\n",
    "# Renaming the header \"SN\" to be more appriopriate\n",
    "renamed_purchase_data_df = purchase_data_df.rename(columns={\"SN\": \"Player Username\"})\n",
    "\n",
    "# Reducing the output rows \n",
    "renamed_purchase_data_df.head()\n",
    "\n",
    "# Calculating the number of unique players in the DataFrame\n",
    "username_count_df = len(renamed_purchase_data_df[\"Player Username\"].unique())\n",
    "\n",
    "print(username_count_df)"
   ]
  },
  {
   "cell_type": "markdown",
   "metadata": {},
   "source": [
    "## Purchasing Analysis (Total)"
   ]
  },
  {
   "cell_type": "markdown",
   "metadata": {},
   "source": [
    "* Run basic calculations to obtain number of unique items, average price, etc.\n",
    "\n",
    "\n",
    "* Create a summary data frame to hold the results\n",
    "\n",
    "\n",
    "* Optional: give the displayed data cleaner formatting\n",
    "\n",
    "\n",
    "* Display the summary data frame\n"
   ]
  },
  {
   "cell_type": "code",
   "execution_count": 4,
   "metadata": {
    "scrolled": true
   },
   "outputs": [
    {
     "output_type": "stream",
     "name": "stdout",
     "text": "<pandas.core.groupby.generic.DataFrameGroupBy object at 0x000001DC213FA508>\nPlayer Username\nAdairialis76    2.280000\nAdastirin33     4.480000\nAeda94          4.910000\nAela59          4.320000\nAelaria33       1.790000\nAelastirin39    3.645000\nAelidru27       1.090000\nAelin32         2.993333\nAelly27         3.395000\nAellynun67      3.740000\nName: Price, dtype: float64\n"
    }
   ],
   "source": [
    "renamed_purchase_group_df = renamed_purchase_data_df.groupby([\"Player Username\"])\n",
    "\n",
    "# The object returned is a \"GroupBy\" object and cannot be viewed normally..\n",
    "print(renamed_purchase_group_df)\n",
    "\n",
    "# In order to be visualized, a data function must be used...\n",
    "renamed_purchase_group_df.count().head(10)\n",
    "\n",
    "price_avg_per_username = renamed_purchase_group_df[\"Price\"].mean().head(10)\n",
    "print(price_avg_per_username)\n",
    "\n"
   ]
  },
  {
   "cell_type": "markdown",
   "metadata": {},
   "source": [
    "## Gender Demographics"
   ]
  },
  {
   "cell_type": "markdown",
   "metadata": {},
   "source": [
    "* Percentage and Count of Male Players\n",
    "\n",
    "\n",
    "* Percentage and Count of Female Players\n",
    "\n",
    "\n",
    "* Percentage and Count of Other / Non-Disclosed\n",
    "\n",
    "\n"
   ]
  },
  {
   "cell_type": "code",
   "execution_count": 5,
   "metadata": {},
   "outputs": [
    {
     "output_type": "stream",
     "name": "stdout",
     "text": "Male                     83.589744\nFemale                   14.487179\nOther / Non-Disclosed     1.923077\nName: Gender, dtype: float64 %\n"
    }
   ],
   "source": [
    "# number of Gender types\n",
    "Gender_count_df = renamed_purchase_data_df[\"Gender\"].value_counts()\n",
    "#print(Gender_count_df)\n",
    "Total_gender_count = Gender_count_df.sum()\n",
    "#print(Total_gender_count)\n",
    "\n",
    "percent_gender_count = Gender_count_df * 100 / Total_gender_count\n",
    "print(percent_gender_count,\"%\")\n",
    "\n",
    "\n",
    "\n"
   ]
  },
  {
   "cell_type": "markdown",
   "metadata": {},
   "source": [
    "\n",
    "## Purchasing Analysis (Gender)"
   ]
  },
  {
   "cell_type": "markdown",
   "metadata": {},
   "source": [
    "* Run basic calculations to obtain purchase count, avg. purchase price, avg. purchase total per person etc. by gender\n",
    "\n",
    "\n",
    "\n",
    "\n",
    "* Create a summary data frame to hold the results\n",
    "\n",
    "\n",
    "* Optional: give the displayed data cleaner formatting\n",
    "\n",
    "\n",
    "* Display the summary data frame"
   ]
  },
  {
   "cell_type": "code",
   "execution_count": 8,
   "metadata": {},
   "outputs": [
    {
     "output_type": "stream",
     "name": "stdout",
     "text": "Gender  Price\n0      Male   3.53\n1      Male   1.56\n2      Male   4.88\n3      Male   3.27\n4      Male   1.44\n..      ...    ...\n775  Female   3.54\n776    Male   1.63\n777    Male   3.46\n778    Male   4.19\n779    Male   4.60\n\n[752 rows x 2 columns]\n    Gender  Price\n0     Male   3.53\n1     Male   1.56\n2     Male   4.88\n3     Male   3.27\n4     Male   1.44\n..     ...    ...\n774   Male   4.19\n776   Male   1.63\n777   Male   3.46\n778   Male   4.19\n779   Male   4.60\n\n[624 rows x 2 columns]\nAverage price per male: Price    3.008542\ndtype: float64\n     Gender  Price\n15   Female   2.89\n18   Female   4.90\n38   Female   4.18\n41   Female   1.33\n55   Female   3.79\n..      ...    ...\n731  Female   1.02\n740  Female   3.92\n754  Female   4.05\n767  Female   4.88\n775  Female   3.54\n\n[113 rows x 2 columns]\nAverage price per Female: Price    3.203009\ndtype: float64\n"
    },
    {
     "output_type": "execute_result",
     "data": {
      "text/plain": "   Gender Average Price\n0    Male      3.017853\n1  Female      3.203009",
      "text/html": "<div>\n<style scoped>\n    .dataframe tbody tr th:only-of-type {\n        vertical-align: middle;\n    }\n\n    .dataframe tbody tr th {\n        vertical-align: top;\n    }\n\n    .dataframe thead th {\n        text-align: right;\n    }\n</style>\n<table border=\"1\" class=\"dataframe\">\n  <thead>\n    <tr style=\"text-align: right;\">\n      <th></th>\n      <th>Gender</th>\n      <th>Average Price</th>\n    </tr>\n  </thead>\n  <tbody>\n    <tr>\n      <th>0</th>\n      <td>Male</td>\n      <td>3.017853</td>\n    </tr>\n    <tr>\n      <th>1</th>\n      <td>Female</td>\n      <td>3.203009</td>\n    </tr>\n  </tbody>\n</table>\n</div>"
     },
     "metadata": {},
     "execution_count": 8
    }
   ],
   "source": [
    "renamed_Gender_group_df = renamed_purchase_data_df.groupby(['Gender', 'Price'])\n",
    "renamed_Gender_group_df.count().head()\n",
    "Gender_Price_df = renamed_Gender_group_df[[\"Gender\", \"Price\"]].head(10)\n",
    "# Data frame of Gender and price\n",
    "print(Gender_Price_df)\n",
    "males_only_df = Gender_Price_df.loc[Gender_Price_df[\"Gender\"] == \"Male\", :]\n",
    "# Data frame of Males only\n",
    "print(males_only_df)\n",
    "Avg_price_per_Males_df = males_only_df.mean()\n",
    "# Data frame of Average price per Males \n",
    "print(\"Average price per male:\",Avg_price_per_Males_df)\n",
    "females_only_df = Gender_Price_df.loc[Gender_Price_df[\"Gender\"] == \"Female\", :]\n",
    "# Data frame of Females only\n",
    "print(females_only_df)\n",
    "Avg_price_per_Females_df = females_only_df.mean()\n",
    "# Data frame of Average price per Females\n",
    "print(\"Average price per Female:\",Avg_price_per_Females_df)\n",
    "\n",
    "#creating summary table for Average price per Gender\n",
    "summary_table_df = pd.DataFrame(\n",
    "    {\"Gender\": [\"Male\", \"Female\"],\n",
    "     \"Average Price\":  [\"3.017853\", \"3.203009\"]\n",
    "     }\n",
    ")\n",
    "summary_table_df"
   ]
  },
  {
   "cell_type": "markdown",
   "metadata": {},
   "source": [
    "## Age Demographics"
   ]
  },
  {
   "cell_type": "markdown",
   "metadata": {},
   "source": [
    "* Establish bins for ages\n",
    "\n",
    "\n",
    "* Categorize the existing players using the age bins. Hint: use pd.cut()\n",
    "\n",
    "\n",
    "* Calculate the numbers and percentages by age group\n",
    "\n",
    "\n",
    "* Create a summary data frame to hold the results\n",
    "\n",
    "\n",
    "* Optional: round the percentage column to two decimal points\n",
    "\n",
    "\n",
    "* Display Age Demographics Table\n"
   ]
  },
  {
   "cell_type": "code",
   "execution_count": 12,
   "metadata": {},
   "outputs": [
    {
     "output_type": "stream",
     "name": "stdout",
     "text": "Player Username  Age\n0           Lisim78   20\n1       Lisovynya38   40\n2        Ithergue48   24\n3     Chamassasya86   24\n4         Iskosia90   23\n..              ...  ...\n775      Aethedru70   21\n776          Iral74   21\n777      Yathecal72   20\n778         Sisur91    7\n779       Ennrian78   24\n\n[780 rows x 2 columns]\nyoungest age: 7\noldest age: 45\n    Player Username  Age Age Classification\n467    Adairialis76   16           Teenager\n142     Adastirin33   35              Adult\n388          Aeda94   17           Teenager\n28           Aela59   21        Young Adult\n630       Aelaria33   23        Young Adult\n..              ...  ...                ...\n125      Yathecal82   20        Young Adult\n595      Yathedeu43   22        Young Adult\n572   Yoishirrala98   17           Teenager\n54       Zhisrisu83   10           Teenager\n560       Zontibe81   21        Young Adult\n\n[576 rows x 3 columns]\nYoung Adult     335\nTeenager        129\nAdult            83\nkid              17\nSenior Adult     12\nName: Age Classification, dtype: int64\n576\nYoung Adult     58.159722\nTeenager        22.395833\nAdult           14.409722\nkid              2.951389\nSenior Adult     2.083333\nName: Age Classification, dtype: float64 %\n"
    },
    {
     "output_type": "execute_result",
     "data": {
      "text/plain": "   youngest player  oldest player kid:percent Teenager:percent  \\\n0                7             45         3 %             22 %   \n\n  Young Adult:percent Adult:percent Senior Adult  \n0                58 %          14 %          2 %  ",
      "text/html": "<div>\n<style scoped>\n    .dataframe tbody tr th:only-of-type {\n        vertical-align: middle;\n    }\n\n    .dataframe tbody tr th {\n        vertical-align: top;\n    }\n\n    .dataframe thead th {\n        text-align: right;\n    }\n</style>\n<table border=\"1\" class=\"dataframe\">\n  <thead>\n    <tr style=\"text-align: right;\">\n      <th></th>\n      <th>youngest player</th>\n      <th>oldest player</th>\n      <th>kid:percent</th>\n      <th>Teenager:percent</th>\n      <th>Young Adult:percent</th>\n      <th>Adult:percent</th>\n      <th>Senior Adult</th>\n    </tr>\n  </thead>\n  <tbody>\n    <tr>\n      <th>0</th>\n      <td>7</td>\n      <td>45</td>\n      <td>3 %</td>\n      <td>22 %</td>\n      <td>58 %</td>\n      <td>14 %</td>\n      <td>2 %</td>\n    </tr>\n  </tbody>\n</table>\n</div>"
     },
     "metadata": {},
     "execution_count": 12
    }
   ],
   "source": [
    "age_player_username_df = renamed_purchase_data_df[[\"Player Username\",\"Age\"]]\n",
    "print(age_player_username_df)\n",
    "# Calculate the earliest/latest age\n",
    "youngest_age = age_player_username_df[\"Age\"].min()\n",
    "print(\"youngest age:\",youngest_age)\n",
    "oldest_age = age_player_username_df[\"Age\"].max()\n",
    "print(\"oldest age:\",oldest_age)\n",
    "age_player_username_group_df = age_player_username_df.groupby([\"Player Username\"])\n",
    "age_player_username_group_df.count()\n",
    "\n",
    "# sorting by first name \n",
    "age_player_username_df.sort_values(\"Player Username\", inplace = True) \n",
    "  \n",
    "# dropping ALL duplicte values,\n",
    "# Still need to check why the output below is 414 and for unique usernames as above value = 576\n",
    "age_player_username_df.drop_duplicates(subset =\"Player Username\", \n",
    "                     inplace = True) \n",
    "\n",
    "age_player_username_df\n",
    "\n",
    "# Creating the bins in which Data will be held\n",
    "# Bins are 0,9.9,19.9,29.9,39.9,49.9   \n",
    "bins = [0,9.9,19.9,29.9,39.9,50.0]\n",
    "\n",
    "# Create the names for the five bins\n",
    "group_names = [\"kid\", \"Teenager\", \"Young Adult\", \"Adult\", \"Senior Adult\"]\n",
    "\n",
    "age_player_username_df[\"Age Classification\"] = pd.cut(age_player_username_df[\"Age\"], bins, labels=group_names, include_lowest=True)\n",
    "print(age_player_username_df)\n",
    "\n",
    "# calculate percentages\n",
    "\n",
    "Age_Classification_count_df = age_player_username_df[\"Age Classification\"].value_counts()\n",
    "print(Age_Classification_count_df)\n",
    "Total_Age_Classification_count = Age_Classification_count_df.sum()\n",
    "print(Total_Age_Classification_count)\n",
    "\n",
    "percent_age_classification = Age_Classification_count_df * 100 / Total_Age_Classification_count\n",
    "print(percent_age_classification,\"%\")\n",
    "\n",
    "\n",
    "# Place all of the data found into a summary DataFrame\n",
    "\n",
    "summary_table_df = pd.DataFrame(\n",
    "    {\"youngest player\": [youngest_age],\n",
    "     \"oldest player\":   [oldest_age],\n",
    "     \"kid:percent\":  [\"3 %\"],\n",
    "     \"Teenager:percent\":  [\"22 %\"],\n",
    "     \"Young Adult:percent\":  [\"58 %\"],\n",
    "     \"Adult:percent\":  [\"14 %\"],\n",
    "     \"Senior Adult\":  [\"2 %\"]\n",
    "     }\n",
    ")\n",
    "summary_table_df"
   ]
  },
  {
   "cell_type": "markdown",
   "metadata": {},
   "source": [
    "## Purchasing Analysis (Age)"
   ]
  },
  {
   "cell_type": "markdown",
   "metadata": {},
   "source": [
    "* Bin the purchase_data data frame by age\n",
    "\n",
    "\n",
    "* Run basic calculations to obtain purchase count, avg. purchase price, avg. purchase total per person etc. in the table below\n",
    "\n",
    "\n",
    "* Create a summary data frame to hold the results\n",
    "\n",
    "\n",
    "* Optional: give the displayed data cleaner formatting\n",
    "\n",
    "\n",
    "* Display the summary data frame"
   ]
  },
  {
   "cell_type": "code",
   "execution_count": 10,
   "metadata": {},
   "outputs": [
    {
     "output_type": "stream",
     "name": "stdout",
     "text": "Player Username  Price\nAge                        \n7                  9      9\n8                  8      8\n9                  6      6\n10                 9      9\n11                 7      7\n12                 6      6\n13                 4      4\n14                 2      2\n15                35     35\n16                30     30\n"
    },
    {
     "output_type": "execute_result",
     "data": {
      "text/plain": "     Average Price per Age\nAge                       \n7                 3.654444\n8                 3.246250\n9                 3.045000\n10                3.536667\n11                2.684286",
      "text/html": "<div>\n<style scoped>\n    .dataframe tbody tr th:only-of-type {\n        vertical-align: middle;\n    }\n\n    .dataframe tbody tr th {\n        vertical-align: top;\n    }\n\n    .dataframe thead th {\n        text-align: right;\n    }\n</style>\n<table border=\"1\" class=\"dataframe\">\n  <thead>\n    <tr style=\"text-align: right;\">\n      <th></th>\n      <th>Average Price per Age</th>\n    </tr>\n    <tr>\n      <th>Age</th>\n      <th></th>\n    </tr>\n  </thead>\n  <tbody>\n    <tr>\n      <th>7</th>\n      <td>3.654444</td>\n    </tr>\n    <tr>\n      <th>8</th>\n      <td>3.246250</td>\n    </tr>\n    <tr>\n      <th>9</th>\n      <td>3.045000</td>\n    </tr>\n    <tr>\n      <th>10</th>\n      <td>3.536667</td>\n    </tr>\n    <tr>\n      <th>11</th>\n      <td>2.684286</td>\n    </tr>\n  </tbody>\n</table>\n</div>"
     },
     "metadata": {},
     "execution_count": 10
    }
   ],
   "source": [
    "purchasing_Age_price_df = renamed_purchase_data_df[[\"Player Username\",\"Age\",\"Price\"]]\n",
    "purchasing_Age_price_df\n",
    "\n",
    "purchasing_Age_price_group_df = purchasing_Age_price_df.groupby(['Age'])\n",
    "print(purchasing_Age_price_group_df.count().head(10))\n",
    "\n",
    "purchasing_Age_price_group_mean_df = purchasing_Age_price_group_df[\"Price\"].mean()\n",
    "purchasing_Age_price_group_mean_df\n",
    "\n",
    "# Creating a new DataFrame using both duration and count\n",
    "state_summary_df = pd.DataFrame({\"Average Price per Age\": purchasing_Age_price_group_mean_df})\n",
    "state_summary_df.head()\n",
    "\n",
    "\n",
    "\n",
    "\n",
    "\n"
   ]
  },
  {
   "cell_type": "markdown",
   "metadata": {},
   "source": [
    "## Top Spenders"
   ]
  },
  {
   "cell_type": "markdown",
   "metadata": {},
   "source": [
    "* Run basic calculations to obtain the results in the table below\n",
    "\n",
    "\n",
    "* Create a summary data frame to hold the results\n",
    "\n",
    "\n",
    "* Sort the total purchase value column in descending order\n",
    "\n",
    "\n",
    "* Optional: give the displayed data cleaner formatting\n",
    "\n",
    "\n",
    "* Display a preview of the summary data frame\n",
    "\n"
   ]
  },
  {
   "cell_type": "code",
   "execution_count": 11,
   "metadata": {},
   "outputs": [
    {
     "output_type": "stream",
     "name": "stdout",
     "text": "Player Username\nAdairialis76     2.280000\nAdastirin33      4.480000\nAeda94           4.910000\nAela59           4.320000\nAelaria33        1.790000\n                   ...   \nYathecal82       2.073333\nYathedeu43       3.010000\nYoishirrala98    4.580000\nZhisrisu83       3.945000\nZontibe81        2.676667\nName: Price, Length: 576, dtype: float64\n"
    },
    {
     "output_type": "error",
     "ename": "ValueError",
     "evalue": "No axis named Price for object type <class 'pandas.core.series.Series'>",
     "traceback": [
      "\u001b[1;31m---------------------------------------------------------------------------\u001b[0m",
      "\u001b[1;31mValueError\u001b[0m                                Traceback (most recent call last)",
      "\u001b[1;32m<ipython-input-11-9bb7b9807cb4>\u001b[0m in \u001b[0;36m<module>\u001b[1;34m\u001b[0m\n\u001b[0;32m      6\u001b[0m \u001b[1;33m\u001b[0m\u001b[0m\n\u001b[0;32m      7\u001b[0m \u001b[1;31m# To sort from highest to lowest, ascending=False must be passed in\u001b[0m\u001b[1;33m\u001b[0m\u001b[1;33m\u001b[0m\u001b[1;33m\u001b[0m\u001b[0m\n\u001b[1;32m----> 8\u001b[1;33m \u001b[0mDescending_price_avg_per_username_df\u001b[0m \u001b[1;33m=\u001b[0m \u001b[0mprice_avg_per_username\u001b[0m\u001b[1;33m.\u001b[0m\u001b[0msort_values\u001b[0m\u001b[1;33m(\u001b[0m\u001b[1;34m\"Price\"\u001b[0m\u001b[1;33m,\u001b[0m\u001b[0mascending\u001b[0m\u001b[1;33m=\u001b[0m\u001b[1;32mFalse\u001b[0m\u001b[1;33m)\u001b[0m\u001b[1;33m\u001b[0m\u001b[1;33m\u001b[0m\u001b[0m\n\u001b[0m\u001b[0;32m      9\u001b[0m \u001b[1;31m#freedom_df.head()\u001b[0m\u001b[1;33m\u001b[0m\u001b[1;33m\u001b[0m\u001b[1;33m\u001b[0m\u001b[0m\n",
      "\u001b[1;32m~\\anaconda3\\envs\\PythonDataViz\\lib\\site-packages\\pandas\\core\\series.py\u001b[0m in \u001b[0;36msort_values\u001b[1;34m(self, axis, ascending, inplace, kind, na_position, ignore_index)\u001b[0m\n\u001b[0;32m   2933\u001b[0m         \u001b[0minplace\u001b[0m \u001b[1;33m=\u001b[0m \u001b[0mvalidate_bool_kwarg\u001b[0m\u001b[1;33m(\u001b[0m\u001b[0minplace\u001b[0m\u001b[1;33m,\u001b[0m \u001b[1;34m\"inplace\"\u001b[0m\u001b[1;33m)\u001b[0m\u001b[1;33m\u001b[0m\u001b[1;33m\u001b[0m\u001b[0m\n\u001b[0;32m   2934\u001b[0m         \u001b[1;31m# Validate the axis parameter\u001b[0m\u001b[1;33m\u001b[0m\u001b[1;33m\u001b[0m\u001b[1;33m\u001b[0m\u001b[0m\n\u001b[1;32m-> 2935\u001b[1;33m         \u001b[0mself\u001b[0m\u001b[1;33m.\u001b[0m\u001b[0m_get_axis_number\u001b[0m\u001b[1;33m(\u001b[0m\u001b[0maxis\u001b[0m\u001b[1;33m)\u001b[0m\u001b[1;33m\u001b[0m\u001b[1;33m\u001b[0m\u001b[0m\n\u001b[0m\u001b[0;32m   2936\u001b[0m \u001b[1;33m\u001b[0m\u001b[0m\n\u001b[0;32m   2937\u001b[0m         \u001b[1;31m# GH 5856/5853\u001b[0m\u001b[1;33m\u001b[0m\u001b[1;33m\u001b[0m\u001b[1;33m\u001b[0m\u001b[0m\n",
      "\u001b[1;32m~\\anaconda3\\envs\\PythonDataViz\\lib\\site-packages\\pandas\\core\\generic.py\u001b[0m in \u001b[0;36m_get_axis_number\u001b[1;34m(cls, axis)\u001b[0m\n\u001b[0;32m    405\u001b[0m             \u001b[1;32mexcept\u001b[0m \u001b[0mKeyError\u001b[0m\u001b[1;33m:\u001b[0m\u001b[1;33m\u001b[0m\u001b[1;33m\u001b[0m\u001b[0m\n\u001b[0;32m    406\u001b[0m                 \u001b[1;32mpass\u001b[0m\u001b[1;33m\u001b[0m\u001b[1;33m\u001b[0m\u001b[0m\n\u001b[1;32m--> 407\u001b[1;33m         \u001b[1;32mraise\u001b[0m \u001b[0mValueError\u001b[0m\u001b[1;33m(\u001b[0m\u001b[1;34mf\"No axis named {axis} for object type {cls}\"\u001b[0m\u001b[1;33m)\u001b[0m\u001b[1;33m\u001b[0m\u001b[1;33m\u001b[0m\u001b[0m\n\u001b[0m\u001b[0;32m    408\u001b[0m \u001b[1;33m\u001b[0m\u001b[0m\n\u001b[0;32m    409\u001b[0m     \u001b[1;33m@\u001b[0m\u001b[0mclassmethod\u001b[0m\u001b[1;33m\u001b[0m\u001b[1;33m\u001b[0m\u001b[0m\n",
      "\u001b[1;31mValueError\u001b[0m: No axis named Price for object type <class 'pandas.core.series.Series'>"
     ]
    }
   ],
   "source": [
    "# Data frame of Gender and price\n",
    "#print(Gender_Price_df)\n",
    "\n",
    "price_avg_per_username = renamed_purchase_group_df[\"Price\"].mean()\n",
    "print(price_avg_per_username)\n",
    "\n",
    "# To sort from highest to lowest, ascending=False must be passed in\n",
    "Descending_price_avg_per_username_df = price_avg_per_username.sort_values(\"Price\",ascending=False)\n",
    "#freedom_df.head()"
   ]
  },
  {
   "cell_type": "markdown",
   "metadata": {},
   "source": [
    "## Most Popular Items"
   ]
  },
  {
   "cell_type": "markdown",
   "metadata": {},
   "source": [
    "* Retrieve the Item ID, Item Name, and Item Price columns\n",
    "\n",
    "\n",
    "* Group by Item ID and Item Name. Perform calculations to obtain purchase count, item price, and total purchase value\n",
    "\n",
    "\n",
    "* Create a summary data frame to hold the results\n",
    "\n",
    "\n",
    "* Sort the purchase count column in descending order\n",
    "\n",
    "\n",
    "* Optional: give the displayed data cleaner formatting\n",
    "\n",
    "\n",
    "* Display a preview of the summary data frame\n",
    "\n"
   ]
  },
  {
   "cell_type": "code",
   "execution_count": null,
   "metadata": {},
   "outputs": [],
   "source": []
  },
  {
   "cell_type": "markdown",
   "metadata": {},
   "source": [
    "## Most Profitable Items"
   ]
  },
  {
   "cell_type": "markdown",
   "metadata": {},
   "source": [
    "* Sort the above table by total purchase value in descending order\n",
    "\n",
    "\n",
    "* Optional: give the displayed data cleaner formatting\n",
    "\n",
    "\n",
    "* Display a preview of the data frame\n",
    "\n"
   ]
  },
  {
   "cell_type": "code",
   "execution_count": null,
   "metadata": {
    "scrolled": true
   },
   "outputs": [],
   "source": []
  }
 ],
 "metadata": {
  "anaconda-cloud": {},
  "kernel_info": {
   "name": "python3"
  },
  "kernelspec": {
   "display_name": "Python 3",
   "language": "python",
   "name": "python3"
  },
  "language_info": {
   "codemirror_mode": {
    "name": "ipython",
    "version": 3
   },
   "file_extension": ".py",
   "mimetype": "text/x-python",
   "name": "python",
   "nbconvert_exporter": "python",
   "pygments_lexer": "ipython3",
   "version": "3.7.7-final"
  },
  "latex_envs": {
   "LaTeX_envs_menu_present": true,
   "autoclose": false,
   "autocomplete": true,
   "bibliofile": "biblio.bib",
   "cite_by": "apalike",
   "current_citInitial": 1,
   "eqLabelWithNumbers": true,
   "eqNumInitial": 1,
   "hotkeys": {
    "equation": "Ctrl-E",
    "itemize": "Ctrl-I"
   },
   "labels_anchors": false,
   "latex_user_defs": false,
   "report_style_numbering": false,
   "user_envs_cfg": false
  },
  "nteract": {
   "version": "0.2.0"
  }
 },
 "nbformat": 4,
 "nbformat_minor": 2
}